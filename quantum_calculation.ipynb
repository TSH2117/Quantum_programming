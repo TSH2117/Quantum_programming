{
 "cells": [
  {
   "cell_type": "code",
   "execution_count": 28,
   "metadata": {},
   "outputs": [
    {
     "name": "stdout",
     "output_type": "stream",
     "text": [
      "{'00': 1024}\n"
     ]
    },
    {
     "data": {
      "image/png": "[encoded data removed]",
      "text/plain": [
       "<Figure size 432x288 with 1 Axes>"
      ]
     },
     "metadata": {},
     "output_type": "display_data"
    }
   ],
   "source": [
    "#------量子プログラム (0 + 0or1 = 0or1)　を計算する------#\n",
    "from qiskit import QuantumProgram\n",
    "from qiskit.tools.visualization import plot_histogram\n",
    "qp = QuantumProgram()\n",
    "\n",
    "#------量子ビット、回路用意------#\n",
    "q = qp.create_quantum_register('q', 2)\n",
    "c = qp.create_classical_register('c', 2)\n",
    "cn = 'calc'\n",
    "qc = qp.create_circuit(cn, [q], [c])\n",
    "\n",
    "#------量子回路記述 (0 + 0or1 = 0or1)------#\n",
    "#--初期状態定義部分--#\n",
    "#0+0を計算したい場合\n",
    "#このまま実行\n",
    "#0+1を計算したい場合(下の1行を有効にする)\n",
    "#qc.x(q[0])\n",
    "#0+0, 0+1を同時に計算したい場合(下の1行を有効にする)\n",
    "#qc.h(q[0])\n",
    "\n",
    "#--計算部分--#\n",
    "#制御NOTゲート\n",
    "qc.cx(q[0], q[1])\n",
    "\n",
    "#--測定部分--#\n",
    "qc.measure(q[1], c[0])\n",
    "qc.measure(q[0], c[1])\n",
    "r = qp.execute(cn)\n",
    "\n",
    "#------計算結果描画------#\n",
    "print(r.get_counts(cn))\n",
    "plot_histogram(r.get_counts(cn))"
   ]
  },
  {
   "cell_type": "code",
   "execution_count": 29,
   "metadata": {},
   "outputs": [
    {
     "name": "stdout",
     "output_type": "stream",
     "text": [
      "{'0000': 1024}\n"
     ]
    },
    {
     "data": {
      "image/png": "[encoded data removed]",
      "text/plain": [
       "<Figure size 432x288 with 1 Axes>"
      ]
     },
     "metadata": {},
     "output_type": "display_data"
    }
   ],
   "source": [
    "#------量子プログラム (0or1 + 0or1 = 0or1or2)　を計算する------#\n",
    "#(参考URL)https://qiita.com/kjtnk/items/8385052a50e3154d1022\n",
    "from qiskit import QuantumProgram\n",
    "from qiskit.tools.visualization import plot_histogram\n",
    "qp = QuantumProgram()\n",
    "\n",
    "#------量子ビット、回路用意------#\n",
    "q = qp.create_quantum_register('q', 4)\n",
    "c = qp.create_classical_register('c', 4)\n",
    "cn = 'calc'\n",
    "qc = qp.create_circuit(cn, [q], [c])\n",
    "\n",
    "\n",
    "#------量子回路記述 (0or1 + 0or1 = 0or1or2)------#\n",
    "#--初期状態定義部分--#\n",
    "#式左辺第1項のコントロール\n",
    "#1を持たせる場合1行目をコメントアウト、0と1を持たせる場合2行目をコメントアウト\n",
    "#qc.x(q[0])\n",
    "#qc.h(q[0])\n",
    "\n",
    "#左辺第2項のコントロール\n",
    "#1を持たせる場合1行目をコメントアウト、0と1を持たせる場合2行目をコメントアウト\n",
    "#qc.x(q[1])\n",
    "#qc.h(q[1])\n",
    "\n",
    "#--計算部分--#\n",
    "#制御・制御NOTゲート（トフォリゲート）\n",
    "qc.ccx(q[0], q[1], q[2])\n",
    "#制御NOTゲート\n",
    "qc.cx(q[0], q[2])\n",
    "qc.cx(q[1], q[2])\n",
    "\n",
    "#--測定部分--#\n",
    "qc.measure(q[3], c[0])\n",
    "qc.measure(q[2], c[1])\n",
    "qc.measure(q[1], c[2])\n",
    "qc.measure(q[0], c[3])\n",
    "\n",
    "#------計算結果描画------#\n",
    "r = qp.execute(cn)\n",
    "print(r.get_counts(cn))\n",
    "plot_histogram(r.get_counts(cn))"
   ]
  },
  {
   "cell_type": "code",
   "execution_count": null,
   "metadata": {},
   "outputs": [],
   "source": []
  }
 ],
 "metadata": {
  "kernelspec": {
   "display_name": "Python 3",
   "language": "python",
   "name": "python3"
  },
  "language_info": {
   "codemirror_mode": {
    "name": "ipython",
    "version": 3
   },
   "file_extension": ".py",
   "mimetype": "text/x-python",
   "name": "python",
   "nbconvert_exporter": "python",
   "pygments_lexer": "ipython3",
   "version": "3.6.4"
  }
 },
 "nbformat": 4,
 "nbformat_minor": 2
}
